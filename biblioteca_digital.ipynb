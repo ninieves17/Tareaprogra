{
 "cells": [
  {
   "cell_type": "code",
   "execution_count": 1137,
   "metadata": {},
   "outputs": [],
   "source": [
    "from datetime import datetime, timedelta #manejar fechas\n",
    "class Material:\n",
    "    def __init__(self, titulo, estado='disponible'): #incdica si el valor esta disponible o prestado, y el predeterminado es disponible\n",
    "        self.titulo=titulo\n",
    "        self.estado= estado"
   ]
  },
  {
   "cell_type": "code",
   "execution_count": 1138,
   "metadata": {},
   "outputs": [],
   "source": [
    "class Libro(Material):\n",
    "    def __init__(self, titulo, autor, genero, estado='disponible'):\n",
    "        super().__init__(titulo, estado) \n",
    "        self.autor = autor\n",
    "        self.genero = genero\n"
   ]
  },
  {
   "cell_type": "code",
   "execution_count": 1139,
   "metadata": {},
   "outputs": [],
   "source": [
    "class Revista(Material):\n",
    "    def __init__(self, titulo, edicion, periodicidad):\n",
    "        super().__init__(titulo, estado='disponible')\n",
    "        self.edicion = edicion\n",
    "        self.periodicidad = periodicidad        "
   ]
  },
  {
   "cell_type": "code",
   "execution_count": 1140,
   "metadata": {},
   "outputs": [],
   "source": [
    "class MaterialDigital(Material):\n",
    "    def __init__(self, titulo, tipo_archivo, enlace_descarga):\n",
    "        super().__init__(titulo, 'disponible')\n",
    "        self.tipo_archivo = tipo_archivo\n",
    "        self.enlace_descarga = enlace_descarga"
   ]
  },
  {
   "cell_type": "code",
   "execution_count": 1141,
   "metadata": {},
   "outputs": [],
   "source": [
    "class Persona:\n",
    "    lista=[]\n",
    "\n",
    "    def __init__(self, nombre):\n",
    "        self.nombre = nombre\n",
    "\n",
    "    def registrar(self):\n",
    "        Persona.lista.append(self) \n",
    "        print(f\"La persona {self.nombre} ha sido registrada para un préstamo\")\n",
    "\n",
    "    @classmethod\n",
    "    def personas_registradas(cls):\n",
    "        print(\"Personas registradas\")\n",
    "        for Persona in cls.lista:\n",
    "            print(f\"-{Persona.nombre} -\")\n",
    "    "
   ]
  },
  {
   "cell_type": "code",
   "execution_count": 1142,
   "metadata": {},
   "outputs": [],
   "source": [
    "class Usuario(Persona):\n",
    "    def __init__(self, nombre):\n",
    "        super().__init__(nombre)\n",
    "        self.materiales_prestados = [] #lista\n",
    "        self.multas = 0 #inicialmente el usuario no tiene multas\n",
    "    \n",
    "    def consultar_catalogo(self, catalogo):\n",
    "        print(f\"{self.nombre} está consultando el catálogo...\")\n",
    "        catalogo.listar_materiales()\n",
    "\n"
   ]
  },
  {
   "cell_type": "code",
   "execution_count": 1143,
   "metadata": {},
   "outputs": [],
   "source": [
    "class Bibliotecario(Persona):\n",
    "    def __init__(self, nombre):\n",
    "        super().__init__(nombre)\n",
    "    \n",
    "    def agregar_material(self, sucursal,material):\n",
    "        sucursal.agregar_material(material)\n",
    "        print(f\"El material {material.titulo} ha sido agregado con exito en la sucursal: {sucursal.nombre}\")\n",
    "    \n",
    "    def gestionar_prestamo(self, usuario, material):\n",
    "        print(f\"Estado actual del material '{material.titulo}': {material.estado}\")  # Muestra el estado antes del préstamo\n",
    "        \n",
    "        if material.estado == 'disponible': #verifica si esta disponible\n",
    "            prestamo = Prestamo(usuario, material) #crea objeto prestamo\n",
    "            usuario.materiales_prestados.append(material) #guarda el material en materiales prestados\n",
    "            material.estado = 'prestado' #el estado cambia\n",
    "\n",
    "            print(f\"{usuario.nombre} ha tomado prestado '{material.titulo}'. Nuevo estado: {material.estado}\")\n",
    "            return prestamo \n",
    "        else:\n",
    "            print(\"Material no disponible\")\n",
    "    \n",
    "    def transferir_material(self, material, sucursal_origen, sucursal_destino):\n",
    "        if material in sucursal_origen.catalogo:\n",
    "            sucursal_origen.catalogo.remove(material)\n",
    "            sucursal_destino.catalogo.append(material)\n",
    "            print( f\"Material transferido: {material.titulo} de {sucursal_origen.nombre} a {sucursal_destino.nombre}\")\n",
    "\n"
   ]
  },
  {
   "cell_type": "code",
   "execution_count": 1144,
   "metadata": {},
   "outputs": [],
   "source": [
    "class Sucursal:\n",
    "    def __init__(self, nombre):\n",
    "        self.nombre = nombre\n",
    "        self.catalogo = []\n",
    "\n",
    "    def agregar_material(self, material):\n",
    "        self.catalogo.append(material)\n",
    "        print(f\"El material: {material.titulo} ha sido agregado con éxito\")"
   ]
  },
  {
   "cell_type": "code",
   "execution_count": 1145,
   "metadata": {},
   "outputs": [],
   "source": [
    "class Prestamo:\n",
    "    def __init__(self, usuario, material, dias=7): #por defecto la cantidad de dias del prestamo es de 7\n",
    "        self.usuario = usuario\n",
    "        self.material = material\n",
    "        self.fecha_prestamo = datetime.now() #obtiene fecha actual\n",
    "        self.fecha_devolucion = self.fecha_prestamo + timedelta(days=dias) #genera un intervvalo de tiempo de dias a dias y luego suma este intervalo a la fecha de prestamo\n"
   ]
  },
  {
   "cell_type": "code",
   "execution_count": 1146,
   "metadata": {},
   "outputs": [],
   "source": [
    "class Penalizacion:\n",
    "    def __init__(self, usuario, dias_retraso):\n",
    "        self.usuario = usuario\n",
    "        self.monto = dias_retraso * 20 #calcula la multa \n",
    "\n",
    "    def aplicar_penalizacion(self):\n",
    "        self.usuario.multas += self.monto #aplica la multa\n",
    "        print(f\"La multa es de ${self.monto}\")"
   ]
  },
  {
   "cell_type": "code",
   "execution_count": 1147,
   "metadata": {},
   "outputs": [],
   "source": [
    "class Catalogo:\n",
    "    def __init__(self, sucursales):\n",
    "        self.sucursales = sucursales\n",
    "    \n",
    "    def listar_materiales(self):\n",
    "        materiales = [] #lista vacia\n",
    "        for sucursal in self.sucursales:\n",
    "            materiales.extend(sucursal.catalogo) #extend toma los elementos de una lista y los agrega a otra\n",
    "        print(\"Lista de materiales en todas las sucursales:\")\n",
    "        for material in materiales:\n",
    "            print(f\"- {material.titulo}\")\n",
    "        #añade todos los materiales del catalogo a materiales y devuelve lista\n",
    "    \n",
    "    def buscar_material(self, criterio):\n",
    "        resultados = []\n",
    "        for sucursal in self.sucursales: \n",
    "            for material in sucursal.catalogo:\n",
    "                if criterio.lower() in material.titulo.lower(): #lower convierte todo a minusculas y asi es facil buscar sin confundirse con las mayusculas\n",
    "                    resultados.append(material)\n",
    "                    print(f\"{material.titulo} ({material.estado}) en {sucursal.nombre}\")\n",
    "\n"
   ]
  },
  {
   "cell_type": "code",
   "execution_count": 1148,
   "metadata": {},
   "outputs": [
    {
     "name": "stdout",
     "output_type": "stream",
     "text": [
      "La persona Rosa Diaz ha sido registrada para un préstamo\n",
      "El material: El principito ha sido agregado con éxito\n",
      "El material El principito ha sido agregado con exito en la sucursal: Sucursal centro\n",
      "El material: CyberWorld ha sido agregado con éxito\n",
      "Estado actual del material 'CyberWorld': disponible\n",
      "Rosa Diaz ha tomado prestado 'CyberWorld'. Nuevo estado: prestado\n",
      "Material transferido: El principito de Sucursal centro a Sucursal Norte\n",
      "El material: Guía Completa de Matemáticas Básicas ha sido agregado con éxito\n",
      "La multa es de $140\n",
      "El hobbit (disponible) en Sucursal Norte\n",
      "El principito (disponible) en Sucursal Norte\n",
      "Rosa Diaz está consultando el catálogo...\n",
      "Lista de materiales en todas las sucursales:\n",
      "- CyberWorld\n",
      "- El hobbit\n",
      "- El principito\n",
      "- Guía Completa de Matemáticas Básicas\n",
      "El hobbit (disponible) en Sucursal Norte\n",
      "El principito (disponible) en Sucursal Norte\n",
      "Personas registradas\n",
      "-Rosa Diaz -\n"
     ]
    }
   ],
   "source": [
    "p1 = Usuario (\"Rosa Diaz\")\n",
    "p1.registrar()\n",
    "\n",
    "\n",
    "bibliotecario = Bibliotecario(\"Joel Perez\")\n",
    "sucursalcentro = Sucursal(\"Sucursal centro\")\n",
    "libro1 = Libro(\"El principito\", \"Antoine de Saint-Exupery\", \"Ficcion\")\n",
    "bibliotecario.agregar_material(sucursalcentro, libro1)\n",
    "\n",
    "revista = Revista(\"CyberWorld\",\"Seguridad en la Era Digital\", \"Bimestral\" )\n",
    "sucursalcentro.agregar_material(revista)\n",
    "prestamo = bibliotecario.gestionar_prestamo(p1, revista)\n",
    "\n",
    "sucursalnorte = Sucursal(\"Sucursal Norte\")\n",
    "libro3 = Libro(\"El hobbit\", \"J.R.R Tolkien\", \"Fantasia\")\n",
    "sucursalnorte.catalogo.append(libro3)\n",
    "\n",
    "bibliotecario.transferir_material(libro1, sucursalcentro, sucursalnorte)\n",
    "\n",
    "matdig = MaterialDigital(\"Guía Completa de Matemáticas Básicas\", \"PDF\", \"https://descargaaqui.com\")\n",
    "\n",
    "Sucursal.agregar_material(sucursalnorte, matdig)\n",
    "\n",
    "penalizacion1 = Penalizacion(p1, 7)\n",
    "penalizacion1.aplicar_penalizacion()\n",
    "\n",
    "catalogo = Catalogo([sucursalcentro, sucursalnorte])\n",
    "catalogo.buscar_material(\"el\")\n",
    "\n",
    "p1.consultar_catalogo(catalogo)\n",
    "\n",
    "catalogo.buscar_material(\"el\")\n",
    "\n",
    "Persona.personas_registradas()"
   ]
  }
 ],
 "metadata": {
  "kernelspec": {
   "display_name": "Python 3",
   "language": "python",
   "name": "python3"
  },
  "language_info": {
   "codemirror_mode": {
    "name": "ipython",
    "version": 3
   },
   "file_extension": ".py",
   "mimetype": "text/x-python",
   "name": "python",
   "nbconvert_exporter": "python",
   "pygments_lexer": "ipython3",
   "version": "3.13.1"
  }
 },
 "nbformat": 4,
 "nbformat_minor": 2
}
